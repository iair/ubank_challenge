{
 "cells": [
  {
   "cell_type": "code",
   "execution_count": 1,
   "metadata": {},
   "outputs": [],
   "source": [
    "# packager needed to run\n",
    "#!conda install -c anaconda pandas -y\n",
    "#!conda install -c conda-forge matplotlib -y\n",
    "#!conda install -c anaconda scikit-learn -y"
   ]
  },
  {
   "cell_type": "code",
   "execution_count": 2,
   "metadata": {},
   "outputs": [],
   "source": [
    "import pandas as pd\n",
    "import numpy as np\n",
    "import matplotlib.pyplot as plt\n",
    "from datetime import datetime"
   ]
  },
  {
   "cell_type": "code",
   "execution_count": 3,
   "metadata": {},
   "outputs": [],
   "source": [
    "def get_na(df):\n",
    "    qsna=df.shape[0]-df.isnull().sum(axis=0)\n",
    "    qna=df.isnull().sum(axis=0)\n",
    "    ppna=round(100*(df.isnull().sum(axis=0)/df.shape[0]),2)\n",
    "    aux= {'datos sin NAs en q': qsna, 'Na en q': qna ,'Na en %': ppna}\n",
    "    na=pd.DataFrame(data=aux)\n",
    "    return na.sort_values(by='Na en %',ascending=False)"
   ]
  },
  {
   "cell_type": "code",
   "execution_count": 5,
   "metadata": {},
   "outputs": [
    {
     "name": "stdout",
     "output_type": "stream",
     "text": [
      "rule_id          object\n",
      "project_id       object\n",
      "rule_type_id     object\n",
      "amount          float64\n",
      "frecuency         int64\n",
      "categories       object\n",
      "dtype: object\n",
      "[ 0  7 15  1 30  2  3]\n"
     ]
    },
    {
     "data": {
      "text/html": [
       "<div>\n",
       "<style scoped>\n",
       "    .dataframe tbody tr th:only-of-type {\n",
       "        vertical-align: middle;\n",
       "    }\n",
       "\n",
       "    .dataframe tbody tr th {\n",
       "        vertical-align: top;\n",
       "    }\n",
       "\n",
       "    .dataframe thead th {\n",
       "        text-align: right;\n",
       "    }\n",
       "</style>\n",
       "<table border=\"1\" class=\"dataframe\">\n",
       "  <thead>\n",
       "    <tr style=\"text-align: right;\">\n",
       "      <th></th>\n",
       "      <th>rule_id</th>\n",
       "      <th>project_id</th>\n",
       "      <th>rule_type_id</th>\n",
       "      <th>amount</th>\n",
       "      <th>frecuency</th>\n",
       "      <th>categories</th>\n",
       "    </tr>\n",
       "  </thead>\n",
       "  <tbody>\n",
       "    <tr>\n",
       "      <th>0</th>\n",
       "      <td>2f206c2f263f4332aa8985dbe25fc0b5</td>\n",
       "      <td>7593859139ff4b00b09c6a5c2d7d4602</td>\n",
       "      <td>c175e7bf6cf64677903bac9389a80cd9</td>\n",
       "      <td>10.0</td>\n",
       "      <td>0</td>\n",
       "      <td>NaN</td>\n",
       "    </tr>\n",
       "    <tr>\n",
       "      <th>1</th>\n",
       "      <td>7cffbe8d84534f489637b0ab8694f234</td>\n",
       "      <td>7593859139ff4b00b09c6a5c2d7d4602</td>\n",
       "      <td>b30b058a53634cbcb1f589af13e6689f</td>\n",
       "      <td>228.0</td>\n",
       "      <td>7</td>\n",
       "      <td>NaN</td>\n",
       "    </tr>\n",
       "  </tbody>\n",
       "</table>\n",
       "</div>"
      ],
      "text/plain": [
       "                            rule_id                        project_id  \\\n",
       "0  2f206c2f263f4332aa8985dbe25fc0b5  7593859139ff4b00b09c6a5c2d7d4602   \n",
       "1  7cffbe8d84534f489637b0ab8694f234  7593859139ff4b00b09c6a5c2d7d4602   \n",
       "\n",
       "                       rule_type_id  amount  frecuency categories  \n",
       "0  c175e7bf6cf64677903bac9389a80cd9    10.0          0        NaN  \n",
       "1  b30b058a53634cbcb1f589af13e6689f   228.0          7        NaN  "
      ]
     },
     "execution_count": 5,
     "metadata": {},
     "output_type": "execute_result"
    }
   ],
   "source": [
    "tr = pd.read_csv(\"data/test_rules.csv\")\n",
    "catalog = pd.read_csv(\"data/catalog.csv\")\n",
    "print(tr.dtypes)\n",
    "print(tr.frecuency.unique())\n",
    "tr.head(2)"
   ]
  }
 ],
 "metadata": {
  "kernelspec": {
   "display_name": "Python 3",
   "language": "python",
   "name": "python3"
  },
  "language_info": {
   "codemirror_mode": {
    "name": "ipython",
    "version": 3
   },
   "file_extension": ".py",
   "mimetype": "text/x-python",
   "name": "python",
   "nbconvert_exporter": "python",
   "pygments_lexer": "ipython3",
   "version": "3.8.5"
  }
 },
 "nbformat": 4,
 "nbformat_minor": 4
}
